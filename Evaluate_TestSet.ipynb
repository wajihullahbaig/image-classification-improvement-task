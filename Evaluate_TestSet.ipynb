{
 "cells": [
  {
   "cell_type": "markdown",
   "id": "88a55d51",
   "metadata": {},
   "source": [
    "# Evaluating the models on Test set"
   ]
  },
  {
   "cell_type": "code",
   "execution_count": 4,
   "id": "75a0c29a",
   "metadata": {},
   "outputs": [],
   "source": [
    "from GIST import *"
   ]
  },
  {
   "cell_type": "markdown",
   "id": "9a380d2e",
   "metadata": {},
   "source": [
    "## Our tests will include evaluating the models (MLP and RNN) on GIST and raw features"
   ]
  },
  {
   "cell_type": "markdown",
   "id": "9c6efff9",
   "metadata": {},
   "source": [
    "### Create the gist features for test set"
   ]
  },
  {
   "cell_type": "code",
   "execution_count": 5,
   "id": "b85cb500",
   "metadata": {},
   "outputs": [
    {
     "name": "stdout",
     "output_type": "stream",
     "text": [
      "Processing: dataset/test/img_019.png\n",
      "Processing: dataset/test/img_000.png\n",
      "Processing: dataset/test/img_001.png\n",
      "Processing: dataset/test/img_002.png\n",
      "Processing: dataset/test/img_003.png\n",
      "Processing: dataset/test/img_004.png\n",
      "Processing: dataset/test/img_005.png\n",
      "Processing: dataset/test/img_006.png\n",
      "Processing: dataset/test/img_007.png\n",
      "Processing: dataset/test/img_008.png\n",
      "Processing: dataset/test/img_009.png\n",
      "Processing: dataset/test/img_010.png\n",
      "Processing: dataset/test/img_011.png\n",
      "Processing: dataset/test/img_012.png\n",
      "Processing: dataset/test/img_013.png\n",
      "Processing: dataset/test/img_014.png\n",
      "Processing: dataset/test/img_015.png\n",
      "Processing: dataset/test/img_016.png\n",
      "Processing: dataset/test/img_017.png\n",
      "Processing: dataset/test/img_018.png\n",
      "Processing: dataset/test/img_020.png\n",
      "Processing: dataset/test/img_021.png\n",
      "Processing: dataset/test/img_022.png\n",
      "Processing: dataset/test/img_023.png\n",
      "Processing: dataset/test/img_024.png\n",
      "Processing: dataset/test/img_025.png\n",
      "Processing: dataset/test/img_026.png\n",
      "Processing: dataset/test/img_027.png\n",
      "Processing: dataset/test/img_028.png\n",
      "Processing: dataset/test/img_029.png\n",
      "Processing: dataset/test/img_030.png\n",
      "Processing: dataset/test/img_031.png\n",
      "Processing: dataset/test/img_032.png\n",
      "Processing: dataset/test/img_033.png\n",
      "Processing: dataset/test/img_034.png\n",
      "Processing: dataset/test/img_035.png\n",
      "Processing: dataset/test/img_036.png\n",
      "Processing: dataset/test/img_037.png\n",
      "Processing: dataset/test/img_038.png\n",
      "Processing: dataset/test/img_039.png\n"
     ]
    }
   ],
   "source": [
    "from pathlib import Path\n",
    "import os\n",
    "import glob\n",
    "import pandas as pd\n",
    "import cv2\n",
    "import pandas as pd\n",
    "import os\n",
    "root = \"dataset\"\n",
    "output_dir = \"gist_test_features/\"\n",
    "Path(root+\"/\"+output_dir).mkdir(parents=True, exist_ok=True)\n",
    "dir_path = root+\"/test/*.png\"\n",
    "files = glob.glob(dir_path)\n",
    "for file in files:\n",
    "    print(\"Processing:\",file)\n",
    "    img = cv2.imread(file,0)\n",
    "    gist_feature =  gist(img,image_size=28)\n",
    "    file_path = root + \"/\"+output_dir+os.path.basename(file)\n",
    "    np.save(file_path,gist_feature)\n",
    "\n",
    "    "
   ]
  },
  {
   "cell_type": "markdown",
   "id": "556784e4",
   "metadata": {},
   "source": [
    "### Set the device"
   ]
  },
  {
   "cell_type": "code",
   "execution_count": 7,
   "id": "f0ad6a6c",
   "metadata": {},
   "outputs": [
    {
     "name": "stdout",
     "output_type": "stream",
     "text": [
      "Using PyTorch version: 1.12.0  Device: cuda\n"
     ]
    }
   ],
   "source": [
    "import torch\n",
    "if torch.cuda.is_available():\n",
    "    device = torch.device('cuda')\n",
    "else:\n",
    "    device = torch.device('cpu')\n",
    "\n",
    "print('Using PyTorch version:', torch.__version__, ' Device:', device)\n"
   ]
  },
  {
   "cell_type": "code",
   "execution_count": 8,
   "id": "5a05ed6b",
   "metadata": {},
   "outputs": [
    {
     "data": {
      "text/plain": [
       "MLP(\n",
       "  (fc1): Linear(in_features=320, out_features=512, bias=True)\n",
       "  (fc2): Linear(in_features=512, out_features=512, bias=True)\n",
       "  (fc3): Linear(in_features=512, out_features=4, bias=True)\n",
       "  (dropout): Dropout(p=0.2, inplace=False)\n",
       ")"
      ]
     },
     "execution_count": 8,
     "metadata": {},
     "output_type": "execute_result"
    }
   ],
   "source": [
    "from nn_model import MLP,RNN\n",
    "model = torch.load(\"models/gist_1d_320_vector_mlp.net\")\n",
    "model.eval()"
   ]
  },
  {
   "cell_type": "markdown",
   "id": "30371566",
   "metadata": {},
   "source": [
    "### Lets now evaluate the test set as GIST features for MLP model"
   ]
  },
  {
   "cell_type": "code",
   "execution_count": 9,
   "id": "458cfdd3",
   "metadata": {},
   "outputs": [
    {
     "data": {
      "text/plain": [
       "tensor([1, 3, 2, 3, 1, 3, 0, 2, 1, 1, 0, 2, 0, 1, 3, 1, 0, 3, 0, 3, 1, 3, 1, 2,\n",
       "        2, 3, 0, 3, 3, 2, 0, 0, 3, 3, 0, 3, 0, 1, 3, 1], device='cuda:0')"
      ]
     },
     "execution_count": 9,
     "metadata": {},
     "output_type": "execute_result"
    }
   ],
   "source": [
    "from custom_dataset import GistTestDataSet,TestDataSet\n",
    "batch_size = 40\n",
    "dataset = GistTestDataSet(\"dataset/gist_test_features/*.npy\") \n",
    "test_loader = torch.utils.data.DataLoader(dataset, batch_size=batch_size)\n",
    "input_size = 320\n",
    "sequence_length = 1\n",
    "\n",
    "for paths,data in test_loader:\n",
    "    # forward pass: compute predicted outputs by passing inputs to the model\n",
    "    output = model(data.to(device))\n",
    "    # convert output probabilities to predicted class\n",
    "    _, pred = torch.max(output, 1)   \n",
    "\n",
    "pred"
   ]
  },
  {
   "cell_type": "markdown",
   "id": "1a9cd0c0",
   "metadata": {},
   "source": [
    "### Lets save the predictions"
   ]
  },
  {
   "cell_type": "code",
   "execution_count": 10,
   "id": "8b76cfa4",
   "metadata": {},
   "outputs": [],
   "source": [
    "labels_df = pd.DataFrame(columns=[\"file\",\"label\"])\n",
    "for index in range(0,len(paths)):\n",
    "    labels_df.loc[-1] = [os.path.basename(paths[index]),pred[index].cpu().numpy()]\n",
    "    labels_df.index = labels_df.index + 1  # shifting index\n",
    "    labels_df = labels_df.sort_index()\n",
    "labels_df.to_csv(\"gist_mlp_test_lables.csv\")"
   ]
  },
  {
   "cell_type": "markdown",
   "id": "ab325bb6",
   "metadata": {},
   "source": [
    "### Lets now evaluate the test set as raw features for MLP model\n"
   ]
  },
  {
   "cell_type": "code",
   "execution_count": 11,
   "id": "b3c9bd89",
   "metadata": {},
   "outputs": [
    {
     "data": {
      "text/plain": [
       "MLP(\n",
       "  (fc1): Linear(in_features=784, out_features=512, bias=True)\n",
       "  (fc2): Linear(in_features=512, out_features=512, bias=True)\n",
       "  (fc3): Linear(in_features=512, out_features=4, bias=True)\n",
       "  (dropout): Dropout(p=0.2, inplace=False)\n",
       ")"
      ]
     },
     "execution_count": 11,
     "metadata": {},
     "output_type": "execute_result"
    }
   ],
   "source": [
    "model = torch.load(\"models/raw_1d_784_vector_mlp.net\")\n",
    "model.eval()"
   ]
  },
  {
   "cell_type": "code",
   "execution_count": 12,
   "id": "d9c794f7",
   "metadata": {},
   "outputs": [
    {
     "data": {
      "text/plain": [
       "tensor([0, 1, 1, 0, 1, 0, 0, 1, 0, 1, 0, 1, 0, 1, 1, 1, 0, 0, 0, 1, 1, 1, 1, 0,\n",
       "        1, 1, 1, 1, 1, 1, 0, 0, 0, 0, 0, 0, 1, 1, 1, 1], device='cuda:0')"
      ]
     },
     "execution_count": 12,
     "metadata": {},
     "output_type": "execute_result"
    }
   ],
   "source": [
    "from torchvision import transforms\n",
    "batch_size = 40\n",
    "transform = transforms.Compose([transforms.ToTensor(),                                     \n",
    "        transforms.Lambda(lambda x: torch.flatten(x))])\n",
    "dataset = TestDataSet(\"dataset/test/*.png\",transform)\n",
    "test_loader = torch.utils.data.DataLoader(dataset, batch_size=batch_size)\n",
    "input_size = 784\n",
    "sequence_length = 1\n",
    "\n",
    "for paths,data in test_loader:\n",
    "    # forward pass: compute predicted outputs by passing inputs to the model\n",
    "    output = model(data.to(device))\n",
    "    # convert output probabilities to predicted class\n",
    "    _, pred = torch.max(output, 1)   \n",
    "\n",
    "pred    "
   ]
  },
  {
   "cell_type": "markdown",
   "id": "4762996d",
   "metadata": {},
   "source": [
    "### Lets save the predictions"
   ]
  },
  {
   "cell_type": "code",
   "execution_count": 13,
   "id": "dc88a87d",
   "metadata": {},
   "outputs": [],
   "source": [
    "labels_df = pd.DataFrame(columns=[\"file\",\"label\"])\n",
    "for index in range(0,len(paths)):\n",
    "    labels_df.loc[-1] = [os.path.basename(paths[index]),pred[index].cpu().numpy()]\n",
    "    labels_df.index = labels_df.index + 1  # shifting index\n",
    "    labels_df = labels_df.sort_index()\n",
    "labels_df.to_csv(\"raw_mlp_test_lables.csv\")"
   ]
  },
  {
   "cell_type": "markdown",
   "id": "6e733350",
   "metadata": {},
   "source": [
    "### Lets now evaluate the test set as GIST features for RNN model"
   ]
  },
  {
   "cell_type": "code",
   "execution_count": 14,
   "id": "a7508a43",
   "metadata": {},
   "outputs": [
    {
     "data": {
      "text/plain": [
       "RNN(\n",
       "  (rnn): RNN(320, 128, num_layers=2, batch_first=True)\n",
       "  (fc): Linear(in_features=128, out_features=4, bias=True)\n",
       ")"
      ]
     },
     "execution_count": 14,
     "metadata": {},
     "output_type": "execute_result"
    }
   ],
   "source": [
    "model = torch.load(\"models/gist_1d_320_vector_rnn.net\")\n",
    "model.eval()"
   ]
  },
  {
   "cell_type": "code",
   "execution_count": 15,
   "id": "f0acbeb7",
   "metadata": {},
   "outputs": [
    {
     "data": {
      "text/plain": [
       "tensor([1, 0, 2, 3, 1, 3, 0, 2, 2, 1, 0, 2, 0, 0, 3, 1, 0, 3, 0, 1, 1, 3, 0, 2,\n",
       "        2, 3, 0, 3, 1, 2, 0, 0, 3, 1, 0, 3, 0, 1, 3, 1], device='cuda:0')"
      ]
     },
     "execution_count": 15,
     "metadata": {},
     "output_type": "execute_result"
    }
   ],
   "source": [
    "batch_size = 40\n",
    "dataset = GistTestDataSet(\"dataset/gist_test_features/*.npy\") \n",
    "test_loader = torch.utils.data.DataLoader(dataset, batch_size=batch_size)\n",
    "input_size = 320\n",
    "sequence_length = 1\n",
    "\n",
    "for paths,data in test_loader:\n",
    "    # forward pass: compute predicted outputs by passing inputs to the model\n",
    "    output = model(data.unsqueeze(1).to(device))\n",
    "    # convert output probabilities to predicted class\n",
    "    _, pred = torch.max(output, 1)   \n",
    "\n",
    "pred"
   ]
  },
  {
   "cell_type": "markdown",
   "id": "3aa52cf4",
   "metadata": {},
   "source": [
    "### Lets save the predictions"
   ]
  },
  {
   "cell_type": "code",
   "execution_count": 14,
   "id": "304b9767",
   "metadata": {},
   "outputs": [],
   "source": [
    "labels_df = pd.DataFrame(columns=[\"file\",\"label\"])\n",
    "for index in range(0,len(paths)):\n",
    "    labels_df.loc[-1] = [os.path.basename(paths[index]),pred[index].cpu().numpy()]\n",
    "    labels_df.index = labels_df.index + 1  # shifting index\n",
    "    labels_df = labels_df.sort_index()\n",
    "labels_df.to_csv(\"gist_rnn_test_lables.csv\")"
   ]
  },
  {
   "cell_type": "markdown",
   "id": "93160bda",
   "metadata": {},
   "source": [
    "### Lets now evaluate the test set as raw features for RNN model"
   ]
  },
  {
   "cell_type": "code",
   "execution_count": 17,
   "id": "4920a03a",
   "metadata": {},
   "outputs": [
    {
     "data": {
      "text/plain": [
       "RNN(\n",
       "  (rnn): RNN(28, 128, num_layers=2, batch_first=True)\n",
       "  (fc): Linear(in_features=3584, out_features=4, bias=True)\n",
       ")"
      ]
     },
     "execution_count": 17,
     "metadata": {},
     "output_type": "execute_result"
    }
   ],
   "source": [
    "model = torch.load(\"models/raw_28x28_image_rnn.net\")\n",
    "model.eval()"
   ]
  },
  {
   "cell_type": "code",
   "execution_count": 18,
   "id": "c58441bd",
   "metadata": {},
   "outputs": [
    {
     "data": {
      "text/plain": [
       "tensor([0, 0, 3, 2, 0, 3, 1, 0, 3, 1, 2, 1, 0, 2, 3, 1, 0, 3, 0, 1, 1, 3, 0, 0,\n",
       "        2, 1, 0, 1, 0, 0, 2, 0, 1, 3, 0, 3, 1, 1, 1, 3], device='cuda:0')"
      ]
     },
     "execution_count": 18,
     "metadata": {},
     "output_type": "execute_result"
    }
   ],
   "source": [
    "\n",
    "batch_size = 40\n",
    "transform = transforms.Compose([transforms.ToTensor()])\n",
    "dataset = TestDataSet(\"dataset/test/*.png\",transform)\n",
    "test_loader = torch.utils.data.DataLoader(dataset, batch_size=batch_size)\n",
    "input_size = 28\n",
    "sequence_length = 28\n",
    "\n",
    "for paths,data in test_loader:\n",
    "    # forward pass: compute predicted outputs by passing inputs to the model\n",
    "    output = model(data.squeeze(1).to(device))\n",
    "    # convert output probabilities to predicted class\n",
    "    _, pred = torch.max(output, 1)   \n",
    "\n",
    "pred    "
   ]
  },
  {
   "cell_type": "markdown",
   "id": "f06e57ec",
   "metadata": {},
   "source": [
    "### Lets now evaluate the test set as raw features for RNN model"
   ]
  },
  {
   "cell_type": "code",
   "execution_count": 19,
   "id": "96b8dc6d",
   "metadata": {},
   "outputs": [],
   "source": [
    "labels_df = pd.DataFrame(columns=[\"file\",\"label\"])\n",
    "for index in range(0,len(paths)):\n",
    "    labels_df.loc[-1] = [os.path.basename(paths[index]),pred[index].cpu().numpy()]\n",
    "    labels_df.index = labels_df.index + 1  # shifting index\n",
    "    labels_df = labels_df.sort_index()\n",
    "labels_df.to_csv(\"raw_rnn_test_lables.csv\")"
   ]
  },
  {
   "cell_type": "code",
   "execution_count": null,
   "id": "fd8f17b7",
   "metadata": {},
   "outputs": [],
   "source": []
  }
 ],
 "metadata": {
  "kernelspec": {
   "display_name": "Python 3 (ipykernel)",
   "language": "python",
   "name": "python3"
  },
  "language_info": {
   "codemirror_mode": {
    "name": "ipython",
    "version": 3
   },
   "file_extension": ".py",
   "mimetype": "text/x-python",
   "name": "python",
   "nbconvert_exporter": "python",
   "pygments_lexer": "ipython3",
   "version": "3.9.13"
  }
 },
 "nbformat": 4,
 "nbformat_minor": 5
}
